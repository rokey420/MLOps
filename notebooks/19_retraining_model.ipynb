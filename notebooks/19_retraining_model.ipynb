{
 "cells": [
  {
   "cell_type": "code",
   "execution_count": 1,
   "id": "f9c96535-caf8-4023-bf9e-33f9366b4d4e",
   "metadata": {},
   "outputs": [],
   "source": [
    "%load_ext autoreload\n",
    "%autoreload 2"
   ]
  },
  {
   "cell_type": "code",
   "execution_count": 2,
   "id": "cd1c9f38-1c04-47c3-974c-ba17207d9d0c",
   "metadata": {},
   "outputs": [],
   "source": [
    "import sys\n",
    "import os\n",
    "\n",
    "# Add the parent directory to the Python path\n",
    "sys.path.append(os.path.abspath(os.path.join(os.getcwd(), \"..\")))\n",
    "import src.config as config"
   ]
  },
  {
   "cell_type": "code",
   "execution_count": 3,
   "id": "1193b634-a15c-4e5d-ad70-fb42be018f65",
   "metadata": {},
   "outputs": [],
   "source": [
    "from src.inference import get_feature_store, fetch_predictions\n",
    "import pandas as pd\n",
    "from datetime import datetime, timedelta, timezone\n",
    "\n",
    "\n",
    "def fetch_days_data(days):\n",
    "    current_date = pd.to_datetime(datetime.now(timezone.utc))\n",
    "    fetch_data_from = current_date - timedelta(days=(365+days)) \n",
    "    fetch_data_to = current_date - timedelta(days=365)\n",
    "    print(fetch_data_from, fetch_data_to)\n",
    "    fs = get_feature_store()\n",
    "    fg = fs.get_feature_group(\n",
    "        name=config.FEATURE_GROUP_NAME,\n",
    "        version=1\n",
    "    )\n",
    "\n",
    "    query = fg.select_all()\n",
    "    # query = query.filter((fg.pickup_hour >= fetch_data_from))\n",
    "    df = query.read()\n",
    "    cond = (df[\"pickup_hour\"] >= fetch_data_from) & (df[\"pickup_hour\"] <= fetch_data_to)\n",
    "    return df[cond]"
   ]
  },
  {
   "cell_type": "code",
   "execution_count": 4,
   "id": "bbf42b52-ec1a-466b-9995-94a3ba01c599",
   "metadata": {},
   "outputs": [
    {
     "name": "stdout",
     "output_type": "stream",
     "text": [
      "2023-09-06 15:55:32.675314+00:00 2024-03-04 15:55:32.675314+00:00\n",
      "2025-03-04 10:55:32,677 INFO: Initializing external client\n",
      "2025-03-04 10:55:32,679 INFO: Base URL: https://c.app.hopsworks.ai:443\n",
      "2025-03-04 10:55:33,948 INFO: Python Engine initialized.\n",
      "\n",
      "Logged in to project, explore it here https://c.app.hopsworks.ai:443/p/1215681\n",
      "Finished: Reading data from Hopsworks, using Hopsworks Feature Query Service (1.00s) \n"
     ]
    }
   ],
   "source": [
    "ts_data = fetch_days_data(180)"
   ]
  },
  {
   "cell_type": "code",
   "execution_count": 5,
   "id": "17362992-eb09-4545-ae66-e3c230466fea",
   "metadata": {},
   "outputs": [
    {
     "ename": "ValueError",
     "evalue": "No data could be transformed. Check if input DataFrame is empty or window size is too large.",
     "output_type": "error",
     "traceback": [
      "\u001b[1;31m---------------------------------------------------------------------------\u001b[0m",
      "\u001b[1;31mValueError\u001b[0m                                Traceback (most recent call last)",
      "Cell \u001b[1;32mIn[5], line 3\u001b[0m\n\u001b[0;32m      1\u001b[0m \u001b[38;5;28;01mfrom\u001b[39;00m \u001b[38;5;21;01msrc\u001b[39;00m\u001b[38;5;21;01m.\u001b[39;00m\u001b[38;5;21;01mdata_utils\u001b[39;00m \u001b[38;5;28;01mimport\u001b[39;00m transform_ts_data_info_features_and_target\n\u001b[1;32m----> 3\u001b[0m features, targets \u001b[38;5;241m=\u001b[39m transform_ts_data_info_features_and_target(ts_data, window_size\u001b[38;5;241m=\u001b[39m\u001b[38;5;241m24\u001b[39m\u001b[38;5;241m*\u001b[39m\u001b[38;5;241m28\u001b[39m, step_size\u001b[38;5;241m=\u001b[39m\u001b[38;5;241m23\u001b[39m)\n",
      "File \u001b[1;32mE:\\ms fall 2024\\sping 2025\\MLOPS\\sp25_taxi-main\\src\\data_utils.py:400\u001b[0m, in \u001b[0;36mtransform_ts_data_info_features_and_target\u001b[1;34m(df, feature_col, window_size, step_size)\u001b[0m\n\u001b[0;32m    398\u001b[0m \u001b[38;5;66;03m# Combine all transformed data into a single DataFrame\u001b[39;00m\n\u001b[0;32m    399\u001b[0m \u001b[38;5;28;01mif\u001b[39;00m \u001b[38;5;129;01mnot\u001b[39;00m transformed_data:\n\u001b[1;32m--> 400\u001b[0m     \u001b[38;5;28;01mraise\u001b[39;00m \u001b[38;5;167;01mValueError\u001b[39;00m(\n\u001b[0;32m    401\u001b[0m         \u001b[38;5;124m\"\u001b[39m\u001b[38;5;124mNo data could be transformed. Check if input DataFrame is empty or window size is too large.\u001b[39m\u001b[38;5;124m\"\u001b[39m\n\u001b[0;32m    402\u001b[0m     )\n\u001b[0;32m    404\u001b[0m final_df \u001b[38;5;241m=\u001b[39m pd\u001b[38;5;241m.\u001b[39mconcat(transformed_data, ignore_index\u001b[38;5;241m=\u001b[39m\u001b[38;5;28;01mTrue\u001b[39;00m)\n\u001b[0;32m    406\u001b[0m \u001b[38;5;66;03m# Extract features (including pickup_hour), targets, and keep the complete DataFrame\u001b[39;00m\n",
      "\u001b[1;31mValueError\u001b[0m: No data could be transformed. Check if input DataFrame is empty or window size is too large."
     ]
    }
   ],
   "source": [
    "from src.data_utils import transform_ts_data_info_features_and_target\n",
    "\n",
    "features, targets = transform_ts_data_info_features_and_target(ts_data, window_size=24*28, step_size=23)"
   ]
  },
  {
   "cell_type": "code",
   "execution_count": 18,
   "id": "7d364eb9-dcbe-4b5c-b8da-e9a963f0da7b",
   "metadata": {},
   "outputs": [
    {
     "name": "stdout",
     "output_type": "stream",
     "text": [
      "2025-03-04 10:56:13,020 WARNING: DeprecationWarning: ast.Str is deprecated and will be removed in Python 3.14; use ast.Constant instead\n",
      "\n",
      "2025-03-04 10:56:13,021 WARNING: DeprecationWarning: Attribute s is deprecated and will be removed in Python 3.14; use value instead\n",
      "\n"
     ]
    },
    {
     "ename": "NameError",
     "evalue": "name 'features' is not defined",
     "output_type": "error",
     "traceback": [
      "\u001b[1;31m---------------------------------------------------------------------------\u001b[0m",
      "\u001b[1;31mNameError\u001b[0m                                 Traceback (most recent call last)",
      "Cell \u001b[1;32mIn[18], line 3\u001b[0m\n\u001b[0;32m      1\u001b[0m \u001b[38;5;28;01mfrom\u001b[39;00m \u001b[38;5;21;01msrc\u001b[39;00m\u001b[38;5;21;01m.\u001b[39;00m\u001b[38;5;21;01mpipeline_utils\u001b[39;00m \u001b[38;5;28;01mimport\u001b[39;00m get_pipeline\n\u001b[0;32m      2\u001b[0m pipeline \u001b[38;5;241m=\u001b[39m get_pipeline()\n\u001b[1;32m----> 3\u001b[0m pipeline\u001b[38;5;241m.\u001b[39mfit(features, targets)\n",
      "\u001b[1;31mNameError\u001b[0m: name 'features' is not defined"
     ]
    }
   ],
   "source": [
    "from src.pipeline_utils import get_pipeline\n",
    "pipeline = get_pipeline()\n",
    "pipeline.fit(features, targets)"
   ]
  },
  {
   "cell_type": "code",
   "execution_count": null,
   "id": "3bc11950-fa32-4fcf-82dc-c8638ecbf245",
   "metadata": {},
   "outputs": [],
   "source": [
    "from sklearn.metrics import mean_absolute_error\n",
    "predictions = pipeline.predict(features)"
   ]
  },
  {
   "cell_type": "code",
   "execution_count": null,
   "id": "e6a453d8-c480-4e06-b009-de722ff8b52b",
   "metadata": {},
   "outputs": [],
   "source": [
    "test_mae = mean_absolute_error(targets, predictions)\n",
    "print(f\"{test_mae:.4f}\")"
   ]
  },
  {
   "cell_type": "code",
   "execution_count": null,
   "id": "015d7867-a6f9-4cea-8a8b-7da1311011e8",
   "metadata": {},
   "outputs": [],
   "source": [
    "from src.inference import load_metrics_from_registry \n",
    "\n",
    "metric = load_metrics_from_registry()"
   ]
  },
  {
   "cell_type": "code",
   "execution_count": null,
   "id": "941c45fa-ff0e-4766-a82a-ac24d57f96a2",
   "metadata": {},
   "outputs": [],
   "source": [
    "metric"
   ]
  },
  {
   "cell_type": "code",
   "execution_count": null,
   "id": "d3b278a9-b039-4ec4-bb15-738186214ccd",
   "metadata": {
    "scrolled": true
   },
   "outputs": [],
   "source": [
    "from src.inference import load_model_from_registry\n",
    "model = load_model_from_registry()"
   ]
  },
  {
   "cell_type": "code",
   "execution_count": null,
   "id": "055c9f56-941e-4ada-8318-35b6d6e4deaa",
   "metadata": {},
   "outputs": [],
   "source": [
    "import joblib  \n",
    "import src.config\n",
    "# Save the pipeline  \n",
    "joblib.dump(pipeline, config.MODELS_DIR / \"lgb_model.pkl\")"
   ]
  },
  {
   "cell_type": "code",
   "execution_count": null,
   "id": "c0d83098-84a5-457b-a6a3-3ffb44e3c94d",
   "metadata": {},
   "outputs": [],
   "source": [
    "from hsml.schema import Schema\n",
    "from hsml.model_schema import ModelSchema\n",
    "\n",
    "input_schema = Schema(features)\n",
    "output_schema = Schema(targets)\n",
    "model_schema = ModelSchema(input_schema=input_schema, output_schema=output_schema)"
   ]
  },
  {
   "cell_type": "code",
   "execution_count": null,
   "id": "54f5d201-406e-4ec7-915e-6d90df09c7f1",
   "metadata": {},
   "outputs": [],
   "source": [
    "model_registry = project.get_model_registry()\n",
    "model_registry"
   ]
  },
  {
   "cell_type": "code",
   "execution_count": null,
   "id": "183980c5-1dce-49cf-b4c4-5635ab0c2044",
   "metadata": {},
   "outputs": [],
   "source": [
    "modelv2 = model_registry.sklearn.create_model(\n",
    "    name=\"taxi_demand_predictor_next_hour\",\n",
    "    metrics={\"test_mae\": test_mae},\n",
    "    description=\"LightGBM regressor V2\",\n",
    "    input_example=features.sample(),\n",
    "    model_schema=model_schema,\n",
    ")"
   ]
  },
  {
   "cell_type": "code",
   "execution_count": 24,
   "id": "2805114f-4ccf-437b-af8b-737007103de4",
   "metadata": {},
   "outputs": [
    {
     "name": "stdout",
     "output_type": "stream",
     "text": [
      "2025-03-04 10:56:13,822 WARNING: SyntaxWarning: invalid escape sequence '\\m'\n",
      "\n",
      "2025-03-04 10:56:13,824 WARNING: SyntaxWarning: invalid escape sequence '\\m'\n",
      "\n",
      "2025-03-04 10:56:13,958 WARNING: SyntaxWarning: invalid escape sequence '\\m'\n",
      "\n",
      "2025-03-04 10:56:13,965 WARNING: SyntaxWarning: invalid escape sequence '\\m'\n",
      "\n",
      "2025-03-04 10:56:13,966 WARNING: DeprecationWarning: ast.Str is deprecated and will be removed in Python 3.14; use ast.Constant instead\n",
      "\n",
      "2025-03-04 10:56:13,967 WARNING: DeprecationWarning: Attribute s is deprecated and will be removed in Python 3.14; use value instead\n",
      "\n"
     ]
    },
    {
     "ename": "NameError",
     "evalue": "name 'modelv2' is not defined",
     "output_type": "error",
     "traceback": [
      "\u001b[1;31m---------------------------------------------------------------------------\u001b[0m",
      "\u001b[1;31mNameError\u001b[0m                                 Traceback (most recent call last)",
      "Cell \u001b[1;32mIn[24], line 1\u001b[0m\n\u001b[1;32m----> 1\u001b[0m modelv2\u001b[38;5;241m.\u001b[39msave(\u001b[38;5;124m'\u001b[39m\u001b[38;5;124mE:\u001b[39m\u001b[38;5;124m\\\u001b[39m\u001b[38;5;124mms fall 2024\u001b[39m\u001b[38;5;124m\\\u001b[39m\u001b[38;5;124msping 2025\u001b[39m\u001b[38;5;124m\\\u001b[39m\u001b[38;5;124mMLOPS\u001b[39m\u001b[38;5;124m\\\u001b[39m\u001b[38;5;124msp25_taxi-main\u001b[39m\u001b[38;5;124m\\\u001b[39m\u001b[38;5;124mmodels\u001b[39m\u001b[38;5;130;01m\\\\\u001b[39;00m\u001b[38;5;124mlgb_model.pkl\u001b[39m\u001b[38;5;124m'\u001b[39m)\n",
      "\u001b[1;31mNameError\u001b[0m: name 'modelv2' is not defined"
     ]
    }
   ],
   "source": [
    "modelv2.save('E:\\ms fall 2024\\sping 2025\\MLOPS\\sp25_taxi-main\\models\\\\lgb_model.pkl')"
   ]
  },
  {
   "cell_type": "code",
   "execution_count": null,
   "id": "c4384b45-5972-4b87-9c01-a7272d68f1cd",
   "metadata": {},
   "outputs": [],
   "source": [
    "from src.inference import load_model_from_registry\n",
    "model = load_model_from_registry(-1)"
   ]
  },
  {
   "cell_type": "code",
   "execution_count": null,
   "id": "36d932d5-8bee-4a5f-b17c-ce1bd8d3c750",
   "metadata": {},
   "outputs": [],
   "source": [
    "models = model_registry.get_models(name=config.MODEL_NAME)"
   ]
  },
  {
   "cell_type": "code",
   "execution_count": null,
   "id": "63e17479-ef8f-4fa0-a3a5-989155de08f9",
   "metadata": {},
   "outputs": [],
   "source": [
    "models"
   ]
  },
  {
   "cell_type": "code",
   "execution_count": 29,
   "id": "ae1080a4-c598-421b-b4d3-c316d8e366bc",
   "metadata": {},
   "outputs": [
    {
     "name": "stdout",
     "output_type": "stream",
     "text": [
      "2025-03-04 10:56:14,743 WARNING: DeprecationWarning: ast.Str is deprecated and will be removed in Python 3.14; use ast.Constant instead\n",
      "\n",
      "2025-03-04 10:56:14,743 WARNING: DeprecationWarning: Attribute s is deprecated and will be removed in Python 3.14; use value instead\n",
      "\n"
     ]
    },
    {
     "ename": "NameError",
     "evalue": "name 'models' is not defined",
     "output_type": "error",
     "traceback": [
      "\u001b[1;31m---------------------------------------------------------------------------\u001b[0m",
      "\u001b[1;31mNameError\u001b[0m                                 Traceback (most recent call last)",
      "Cell \u001b[1;32mIn[29], line 1\u001b[0m\n\u001b[1;32m----> 1\u001b[0m \u001b[38;5;28mmax\u001b[39m(models, key\u001b[38;5;241m=\u001b[39m\u001b[38;5;28;01mlambda\u001b[39;00m model: model\u001b[38;5;241m.\u001b[39mversion)\n",
      "\u001b[1;31mNameError\u001b[0m: name 'models' is not defined"
     ]
    }
   ],
   "source": [
    "max(models, key=lambda model: model.version)\n"
   ]
  },
  {
   "cell_type": "code",
   "execution_count": null,
   "id": "3118819e-285a-461e-a5dd-4a2b0477dd83",
   "metadata": {},
   "outputs": [],
   "source": [
    "load_metrics_from_registry()"
   ]
  },
  {
   "cell_type": "code",
   "execution_count": null,
   "id": "71974ab3-f262-47a3-94a5-5e2f929d07de",
   "metadata": {},
   "outputs": [],
   "source": []
  },
  {
   "cell_type": "code",
   "execution_count": null,
   "id": "470e2a69-eada-49c3-a199-06abaae10ef3",
   "metadata": {},
   "outputs": [],
   "source": []
  },
  {
   "cell_type": "code",
   "execution_count": null,
   "id": "bb27a523-176a-4411-8b12-aa4da2f724f2",
   "metadata": {},
   "outputs": [],
   "source": []
  },
  {
   "cell_type": "code",
   "execution_count": null,
   "id": "7d2c51a1-960d-46db-b96a-5b3df0aeed7f",
   "metadata": {},
   "outputs": [],
   "source": []
  }
 ],
 "metadata": {
  "kernelspec": {
   "display_name": "Python [conda env:base] *",
   "language": "python",
   "name": "conda-base-py"
  },
  "language_info": {
   "codemirror_mode": {
    "name": "ipython",
    "version": 3
   },
   "file_extension": ".py",
   "mimetype": "text/x-python",
   "name": "python",
   "nbconvert_exporter": "python",
   "pygments_lexer": "ipython3",
   "version": "3.12.7"
  }
 },
 "nbformat": 4,
 "nbformat_minor": 5
}
