{
 "cells": [
  {
   "cell_type": "code",
   "execution_count": 1,
   "id": "cc080774-f41a-4503-a064-c0ac819eeb99",
   "metadata": {
    "scrolled": true
   },
   "outputs": [],
   "source": [
    "# Reg fetch new batch of features and compute predictions and save to feature store\n",
    "# "
   ]
  },
  {
   "cell_type": "code",
   "execution_count": 2,
   "id": "4bd038bf-8550-420b-9ec2-308198fca80f",
   "metadata": {},
   "outputs": [],
   "source": [
    "%load_ext autoreload\n",
    "%autoreload 2"
   ]
  },
  {
   "cell_type": "code",
   "execution_count": 3,
   "id": "46b8ae0d-58dd-4772-8931-25ff5fccb749",
   "metadata": {},
   "outputs": [],
   "source": [
    "import sys\n",
    "import os\n",
    "\n",
    "# Add the parent directory to the Python path\n",
    "sys.path.append(os.path.abspath(os.path.join(os.getcwd(), \"..\")))\n",
    "import src.config as config"
   ]
  },
  {
   "cell_type": "code",
   "execution_count": 4,
   "id": "26612685-265e-4415-a149-5751be8f994d",
   "metadata": {},
   "outputs": [
    {
     "name": "stdout",
     "output_type": "stream",
     "text": [
      "2025-03-06 13:54:40,393 INFO: Initializing external client\n",
      "2025-03-06 13:54:40,395 INFO: Base URL: https://c.app.hopsworks.ai:443\n",
      "2025-03-06 13:54:41,463 INFO: Python Engine initialized.\n",
      "\n",
      "Logged in to project, explore it here https://c.app.hopsworks.ai:443/p/1215681\n",
      "Fetching data from 2025-02-05 18:54:40.390918+00:00 to 2025-03-06 17:54:40.390918+00:00\n",
      "Finished: Reading data from Hopsworks, using Hopsworks Feature Query Service (1.04s) \n"
     ]
    }
   ],
   "source": [
    "from src.inference import get_feature_store\n",
    "from datetime import datetime, timedelta\n",
    "import pandas as pd  \n",
    "\n",
    "# Get the current datetime64[us, Etc/UTC]  \n",
    "current_date = pd.Timestamp.now(tz='Etc/UTC')\n",
    "feature_store = get_feature_store()\n",
    "\n",
    "# read time-series data from the feature store\n",
    "fetch_data_to = current_date - timedelta(hours=1)\n",
    "fetch_data_from = current_date - timedelta(days=1*29)\n",
    "print(f\"Fetching data from {fetch_data_from} to {fetch_data_to}\")\n",
    "feature_view = feature_store.get_feature_view(\n",
    "    name=config.FEATURE_VIEW_NAME, version=config.FEATURE_VIEW_VERSION\n",
    ")\n",
    "\n",
    "ts_data = feature_view.get_batch_data(\n",
    "    start_time=(fetch_data_from - timedelta(days=1)),\n",
    "    end_time=(fetch_data_to + timedelta(days=1)),\n",
    ")\n",
    "ts_data = ts_data[ts_data.pickup_hour.between(fetch_data_from, fetch_data_to)]\n",
    "ts_data.sort_values([\"pickup_location_id\", \"pickup_hour\"]).reset_index(drop=True)\n",
    "ts_data[\"pickup_hour\"] = ts_data[\"pickup_hour\"].dt.tz_localize(None)\n",
    "\n",
    "from src.data_utils import transform_ts_data_info_features\n",
    "features = transform_ts_data_info_features(ts_data, window_size=24*28, step_size=23)"
   ]
  },
  {
   "cell_type": "code",
   "execution_count": 5,
   "id": "22253dce-140a-4296-a48b-35c6c7655b90",
   "metadata": {},
   "outputs": [
    {
     "name": "stdout",
     "output_type": "stream",
     "text": [
      "2025-03-06 13:54:50,703 INFO: Closing external client and cleaning up certificates.\n",
      "Connection closed.\n",
      "2025-03-06 13:54:50,711 INFO: Initializing external client\n",
      "2025-03-06 13:54:50,712 INFO: Base URL: https://c.app.hopsworks.ai:443\n",
      "2025-03-06 13:54:51,867 INFO: Python Engine initialized.\n",
      "\n",
      "Logged in to project, explore it here https://c.app.hopsworks.ai:443/p/1215681\n",
      "Downloading model artifact (0 dirs, 1 files)... DONE\r"
     ]
    }
   ],
   "source": [
    "from src.inference import load_model_from_registry\n",
    "\n",
    "model = load_model_from_registry()"
   ]
  },
  {
   "cell_type": "code",
   "execution_count": 6,
   "id": "b868f801-03a3-4d51-8e24-88231e664f29",
   "metadata": {},
   "outputs": [],
   "source": [
    "from src.inference import get_model_predictions\n",
    "predictions = get_model_predictions(model, features)"
   ]
  },
  {
   "cell_type": "code",
   "execution_count": 7,
   "id": "751d63ab-8e98-4087-a3cf-d79bd1bd88e5",
   "metadata": {},
   "outputs": [
    {
     "data": {
      "text/html": [
       "<div>\n",
       "<style scoped>\n",
       "    .dataframe tbody tr th:only-of-type {\n",
       "        vertical-align: middle;\n",
       "    }\n",
       "\n",
       "    .dataframe tbody tr th {\n",
       "        vertical-align: top;\n",
       "    }\n",
       "\n",
       "    .dataframe thead th {\n",
       "        text-align: right;\n",
       "    }\n",
       "</style>\n",
       "<table border=\"1\" class=\"dataframe\">\n",
       "  <thead>\n",
       "    <tr style=\"text-align: right;\">\n",
       "      <th></th>\n",
       "      <th>pickup_location_id</th>\n",
       "      <th>predicted_demand</th>\n",
       "      <th>pickup_hour</th>\n",
       "    </tr>\n",
       "  </thead>\n",
       "  <tbody>\n",
       "    <tr>\n",
       "      <th>0</th>\n",
       "      <td>114</td>\n",
       "      <td>25.0</td>\n",
       "      <td>2025-03-06 19:00:00+00:00</td>\n",
       "    </tr>\n",
       "    <tr>\n",
       "      <th>1</th>\n",
       "      <td>165</td>\n",
       "      <td>0.0</td>\n",
       "      <td>2025-03-06 19:00:00+00:00</td>\n",
       "    </tr>\n",
       "    <tr>\n",
       "      <th>2</th>\n",
       "      <td>93</td>\n",
       "      <td>-0.0</td>\n",
       "      <td>2025-03-06 19:00:00+00:00</td>\n",
       "    </tr>\n",
       "    <tr>\n",
       "      <th>3</th>\n",
       "      <td>263</td>\n",
       "      <td>31.0</td>\n",
       "      <td>2025-03-06 19:00:00+00:00</td>\n",
       "    </tr>\n",
       "    <tr>\n",
       "      <th>4</th>\n",
       "      <td>241</td>\n",
       "      <td>1.0</td>\n",
       "      <td>2025-03-06 19:00:00+00:00</td>\n",
       "    </tr>\n",
       "    <tr>\n",
       "      <th>...</th>\n",
       "      <td>...</td>\n",
       "      <td>...</td>\n",
       "      <td>...</td>\n",
       "    </tr>\n",
       "    <tr>\n",
       "      <th>247</th>\n",
       "      <td>94</td>\n",
       "      <td>0.0</td>\n",
       "      <td>2025-03-06 19:00:00+00:00</td>\n",
       "    </tr>\n",
       "    <tr>\n",
       "      <th>248</th>\n",
       "      <td>174</td>\n",
       "      <td>0.0</td>\n",
       "      <td>2025-03-06 19:00:00+00:00</td>\n",
       "    </tr>\n",
       "    <tr>\n",
       "      <th>249</th>\n",
       "      <td>185</td>\n",
       "      <td>-0.0</td>\n",
       "      <td>2025-03-06 19:00:00+00:00</td>\n",
       "    </tr>\n",
       "    <tr>\n",
       "      <th>250</th>\n",
       "      <td>37</td>\n",
       "      <td>1.0</td>\n",
       "      <td>2025-03-06 19:00:00+00:00</td>\n",
       "    </tr>\n",
       "    <tr>\n",
       "      <th>251</th>\n",
       "      <td>176</td>\n",
       "      <td>-0.0</td>\n",
       "      <td>2025-03-06 19:00:00+00:00</td>\n",
       "    </tr>\n",
       "  </tbody>\n",
       "</table>\n",
       "<p>252 rows × 3 columns</p>\n",
       "</div>"
      ],
      "text/plain": [
       "     pickup_location_id  predicted_demand               pickup_hour\n",
       "0                   114              25.0 2025-03-06 19:00:00+00:00\n",
       "1                   165               0.0 2025-03-06 19:00:00+00:00\n",
       "2                    93              -0.0 2025-03-06 19:00:00+00:00\n",
       "3                   263              31.0 2025-03-06 19:00:00+00:00\n",
       "4                   241               1.0 2025-03-06 19:00:00+00:00\n",
       "..                  ...               ...                       ...\n",
       "247                  94               0.0 2025-03-06 19:00:00+00:00\n",
       "248                 174               0.0 2025-03-06 19:00:00+00:00\n",
       "249                 185              -0.0 2025-03-06 19:00:00+00:00\n",
       "250                  37               1.0 2025-03-06 19:00:00+00:00\n",
       "251                 176              -0.0 2025-03-06 19:00:00+00:00\n",
       "\n",
       "[252 rows x 3 columns]"
      ]
     },
     "execution_count": 7,
     "metadata": {},
     "output_type": "execute_result"
    }
   ],
   "source": [
    "predictions[\"pickup_hour\"] = current_date.ceil('h')\n",
    "predictions"
   ]
  },
  {
   "cell_type": "code",
   "execution_count": 8,
   "id": "7b171dd4-628a-4c46-af00-92cee476f090",
   "metadata": {},
   "outputs": [
    {
     "name": "stdout",
     "output_type": "stream",
     "text": [
      "2025-03-06 13:54:54,660 INFO: Closing external client and cleaning up certificates.\n",
      "Connection closed.\n",
      "2025-03-06 13:54:54,667 INFO: Initializing external client\n",
      "2025-03-06 13:54:54,669 INFO: Base URL: https://c.app.hopsworks.ai:443\n",
      "2025-03-06 13:54:55,750 INFO: Python Engine initialized.\n",
      "\n",
      "Logged in to project, explore it here https://c.app.hopsworks.ai:443/p/1215681\n"
     ]
    }
   ],
   "source": [
    "from src.inference import get_feature_store\n",
    "\n",
    "feature_group = get_feature_store().get_or_create_feature_group(\n",
    "    name=config.FEATURE_GROUP_MODEL_PREDICTION,\n",
    "    version=1,\n",
    "    description=\"Predictions from LGBM Model\",\n",
    "    primary_key=[\"pickup_location_id\", \"pickup_hour\"],\n",
    "    event_time=\"pickup_hour\",\n",
    ")"
   ]
  },
  {
   "cell_type": "code",
   "execution_count": 9,
   "id": "0ba8f0db-022e-4f8a-ac34-6fd8bb095b47",
   "metadata": {},
   "outputs": [
    {
     "name": "stderr",
     "output_type": "stream",
     "text": [
      "Uploading Dataframe: 100.00% |█████████████████████████████| Rows 252/252 | Elapsed Time: 00:01 | Remaining Time: 00:00\n"
     ]
    },
    {
     "name": "stdout",
     "output_type": "stream",
     "text": [
      "Launching job: taxi_hourly_model_prediction_1_offline_fg_materialization\n",
      "Job started successfully, you can follow the progress at \n",
      "https://c.app.hopsworks.ai:443/p/1215681/jobs/named/taxi_hourly_model_prediction_1_offline_fg_materialization/executions\n"
     ]
    },
    {
     "data": {
      "text/plain": [
       "(Job('taxi_hourly_model_prediction_1_offline_fg_materialization', 'SPARK'),\n",
       " None)"
      ]
     },
     "execution_count": 9,
     "metadata": {},
     "output_type": "execute_result"
    }
   ],
   "source": [
    "feature_group.insert(predictions, write_options={\"wait_for_job\": False})"
   ]
  },
  {
   "cell_type": "code",
   "execution_count": 12,
   "id": "1ffac8e9-33d0-40a4-8ea5-b2f6ddea5b8c",
   "metadata": {
    "scrolled": true
   },
   "outputs": [
    {
     "name": "stdout",
     "output_type": "stream",
     "text": [
      "2025-03-06 13:57:11,980 INFO: Initializing external client\n",
      "2025-03-06 13:57:11,981 INFO: Base URL: https://https://pypi.org/project/hopsworks/4.1.5/ :443\n"
     ]
    },
    {
     "ename": "ValueError",
     "evalue": "Invalid port ''.",
     "output_type": "error",
     "traceback": [
      "\u001b[1;31m---------------------------------------------------------------------------\u001b[0m",
      "\u001b[1;31mValueError\u001b[0m                                Traceback (most recent call last)",
      "Cell \u001b[1;32mIn[12], line 5\u001b[0m\n\u001b[0;32m      1\u001b[0m \u001b[38;5;28;01mimport\u001b[39;00m \u001b[38;5;21;01mhsfs\u001b[39;00m\n\u001b[0;32m      3\u001b[0m \u001b[38;5;66;03m# Create a connection to the Hopsworks feature store\u001b[39;00m\n\u001b[0;32m      4\u001b[0m \u001b[38;5;66;03m# The parameters depend on your Hopsworks setup and whether you are using it inside Hopsworks or externally\u001b[39;00m\n\u001b[1;32m----> 5\u001b[0m conn \u001b[38;5;241m=\u001b[39m hsfs\u001b[38;5;241m.\u001b[39mconnection(\n\u001b[0;32m      6\u001b[0m     host\u001b[38;5;241m=\u001b[39m\u001b[38;5;124m'\u001b[39m\u001b[38;5;124mhttps://pypi.org/project/hopsworks/4.1.5/ \u001b[39m\u001b[38;5;124m'\u001b[39m,\n\u001b[0;32m      7\u001b[0m     project\u001b[38;5;241m=\u001b[39m\u001b[38;5;124m'\u001b[39m\u001b[38;5;124mejeshkr\u001b[39m\u001b[38;5;124m'\u001b[39m,\n\u001b[0;32m      8\u001b[0m     api_key_value\u001b[38;5;241m=\u001b[39m\u001b[38;5;124m'\u001b[39m\u001b[38;5;124mr25PmHdLuyYBdqBS.uKTU5BdMQB7y45O6fhUyJMqFiQkutEAUTQI1FxGLvebMknsXTtqGvf7I4ooA8cMJ\u001b[39m\u001b[38;5;124m'\u001b[39m,  \u001b[38;5;66;03m# Your API key for authentication\u001b[39;00m\n\u001b[0;32m      9\u001b[0m     port\u001b[38;5;241m=\u001b[39m\u001b[38;5;241m443\u001b[39m,  \u001b[38;5;66;03m# Default HTTPS port for Hopsworks instances\u001b[39;00m\n\u001b[0;32m     10\u001b[0m     hostname_verification\u001b[38;5;241m=\u001b[39m\u001b[38;5;28;01mTrue\u001b[39;00m\n\u001b[0;32m     11\u001b[0m )\n\u001b[0;32m     13\u001b[0m \u001b[38;5;66;03m# Get the feature store handle\u001b[39;00m\n\u001b[0;32m     14\u001b[0m feature_store \u001b[38;5;241m=\u001b[39m conn\u001b[38;5;241m.\u001b[39mget_feature_store()\n",
      "File \u001b[1;32m~\\anaconda3\\Lib\\site-packages\\hopsworks_common\\connection.py:544\u001b[0m, in \u001b[0;36mConnection.connection\u001b[1;34m(cls, host, port, project, engine, hostname_verification, trust_store_path, cert_folder, api_key_file, api_key_value)\u001b[0m\n\u001b[0;32m    463\u001b[0m \u001b[38;5;129m@classmethod\u001b[39m\n\u001b[0;32m    464\u001b[0m \u001b[38;5;28;01mdef\u001b[39;00m \u001b[38;5;21mconnection\u001b[39m(\n\u001b[0;32m    465\u001b[0m     \u001b[38;5;28mcls\u001b[39m,\n\u001b[1;32m   (...)\u001b[0m\n\u001b[0;32m    474\u001b[0m     api_key_value: Optional[\u001b[38;5;28mstr\u001b[39m] \u001b[38;5;241m=\u001b[39m \u001b[38;5;28;01mNone\u001b[39;00m,\n\u001b[0;32m    475\u001b[0m ) \u001b[38;5;241m-\u001b[39m\u001b[38;5;241m>\u001b[39m Connection:\n\u001b[0;32m    476\u001b[0m \u001b[38;5;250m    \u001b[39m\u001b[38;5;124;03m\"\"\"Connection factory method, accessible through `hopsworks.connection()`.\u001b[39;00m\n\u001b[0;32m    477\u001b[0m \n\u001b[0;32m    478\u001b[0m \u001b[38;5;124;03m    This class provides convenience classmethods accessible from the `hopsworks`-module:\u001b[39;00m\n\u001b[1;32m   (...)\u001b[0m\n\u001b[0;32m    542\u001b[0m \u001b[38;5;124;03m            Hopsworks project.\u001b[39;00m\n\u001b[0;32m    543\u001b[0m \u001b[38;5;124;03m    \"\"\"\u001b[39;00m\n\u001b[1;32m--> 544\u001b[0m     \u001b[38;5;28;01mreturn\u001b[39;00m \u001b[38;5;28mcls\u001b[39m(\n\u001b[0;32m    545\u001b[0m         host,\n\u001b[0;32m    546\u001b[0m         port,\n\u001b[0;32m    547\u001b[0m         project,\n\u001b[0;32m    548\u001b[0m         engine,\n\u001b[0;32m    549\u001b[0m         hostname_verification,\n\u001b[0;32m    550\u001b[0m         trust_store_path,\n\u001b[0;32m    551\u001b[0m         cert_folder,\n\u001b[0;32m    552\u001b[0m         api_key_file,\n\u001b[0;32m    553\u001b[0m         api_key_value,\n\u001b[0;32m    554\u001b[0m     )\n",
      "File \u001b[1;32m~\\anaconda3\\Lib\\site-packages\\hopsworks_common\\connection.py:147\u001b[0m, in \u001b[0;36mConnection.__init__\u001b[1;34m(self, host, port, project, engine, hostname_verification, trust_store_path, cert_folder, api_key_file, api_key_value)\u001b[0m\n\u001b[0;32m    144\u001b[0m \u001b[38;5;28mself\u001b[39m\u001b[38;5;241m.\u001b[39m_connected \u001b[38;5;241m=\u001b[39m \u001b[38;5;28;01mFalse\u001b[39;00m\n\u001b[0;32m    145\u001b[0m \u001b[38;5;28mself\u001b[39m\u001b[38;5;241m.\u001b[39m_backend_version \u001b[38;5;241m=\u001b[39m \u001b[38;5;28;01mNone\u001b[39;00m\n\u001b[1;32m--> 147\u001b[0m \u001b[38;5;28mself\u001b[39m\u001b[38;5;241m.\u001b[39mconnect()\n",
      "File \u001b[1;32m~\\anaconda3\\Lib\\site-packages\\hopsworks_common\\decorators.py:35\u001b[0m, in \u001b[0;36mnot_connected.<locals>.if_not_connected\u001b[1;34m(inst, *args, **kwargs)\u001b[0m\n\u001b[0;32m     33\u001b[0m \u001b[38;5;28;01mif\u001b[39;00m inst\u001b[38;5;241m.\u001b[39m_connected:\n\u001b[0;32m     34\u001b[0m     \u001b[38;5;28;01mraise\u001b[39;00m HopsworksConnectionError\n\u001b[1;32m---> 35\u001b[0m \u001b[38;5;28;01mreturn\u001b[39;00m fn(inst, \u001b[38;5;241m*\u001b[39margs, \u001b[38;5;241m*\u001b[39m\u001b[38;5;241m*\u001b[39mkwargs)\n",
      "File \u001b[1;32m~\\anaconda3\\Lib\\site-packages\\hopsworks_common\\connection.py:370\u001b[0m, in \u001b[0;36mConnection.connect\u001b[1;34m(self)\u001b[0m\n\u001b[0;32m    368\u001b[0m \u001b[38;5;66;03m# init client\u001b[39;00m\n\u001b[0;32m    369\u001b[0m \u001b[38;5;28;01mif\u001b[39;00m external:\n\u001b[1;32m--> 370\u001b[0m     client\u001b[38;5;241m.\u001b[39minit(\n\u001b[0;32m    371\u001b[0m         \u001b[38;5;124m\"\u001b[39m\u001b[38;5;124mexternal\u001b[39m\u001b[38;5;124m\"\u001b[39m,\n\u001b[0;32m    372\u001b[0m         \u001b[38;5;28mself\u001b[39m\u001b[38;5;241m.\u001b[39m_host,\n\u001b[0;32m    373\u001b[0m         \u001b[38;5;28mself\u001b[39m\u001b[38;5;241m.\u001b[39m_port,\n\u001b[0;32m    374\u001b[0m         \u001b[38;5;28mself\u001b[39m\u001b[38;5;241m.\u001b[39m_project,\n\u001b[0;32m    375\u001b[0m         \u001b[38;5;28mself\u001b[39m\u001b[38;5;241m.\u001b[39m_engine,\n\u001b[0;32m    376\u001b[0m         \u001b[38;5;28mself\u001b[39m\u001b[38;5;241m.\u001b[39m_hostname_verification,\n\u001b[0;32m    377\u001b[0m         \u001b[38;5;28mself\u001b[39m\u001b[38;5;241m.\u001b[39m_trust_store_path,\n\u001b[0;32m    378\u001b[0m         \u001b[38;5;28mself\u001b[39m\u001b[38;5;241m.\u001b[39m_cert_folder,\n\u001b[0;32m    379\u001b[0m         \u001b[38;5;28mself\u001b[39m\u001b[38;5;241m.\u001b[39m_api_key_file,\n\u001b[0;32m    380\u001b[0m         \u001b[38;5;28mself\u001b[39m\u001b[38;5;241m.\u001b[39m_api_key_value,\n\u001b[0;32m    381\u001b[0m     )\n\u001b[0;32m    382\u001b[0m \u001b[38;5;28;01melse\u001b[39;00m:\n\u001b[0;32m    383\u001b[0m     client\u001b[38;5;241m.\u001b[39minit(\n\u001b[0;32m    384\u001b[0m         \u001b[38;5;124m\"\u001b[39m\u001b[38;5;124mhopsworks\u001b[39m\u001b[38;5;124m\"\u001b[39m,\n\u001b[0;32m    385\u001b[0m         hostname_verification\u001b[38;5;241m=\u001b[39m\u001b[38;5;28mself\u001b[39m\u001b[38;5;241m.\u001b[39m_hostname_verification,\n\u001b[0;32m    386\u001b[0m     )\n",
      "File \u001b[1;32m~\\anaconda3\\Lib\\site-packages\\hopsworks_common\\client\\__init__.py:45\u001b[0m, in \u001b[0;36minit\u001b[1;34m(client_type, host, port, project, engine, hostname_verification, trust_store_path, cert_folder, api_key_file, api_key_value)\u001b[0m\n\u001b[0;32m     43\u001b[0m         _client \u001b[38;5;241m=\u001b[39m hopsworks\u001b[38;5;241m.\u001b[39mClient(hostname_verification)\n\u001b[0;32m     44\u001b[0m     \u001b[38;5;28;01melif\u001b[39;00m client_type \u001b[38;5;241m==\u001b[39m \u001b[38;5;124m\"\u001b[39m\u001b[38;5;124mexternal\u001b[39m\u001b[38;5;124m\"\u001b[39m:\n\u001b[1;32m---> 45\u001b[0m         _client \u001b[38;5;241m=\u001b[39m external\u001b[38;5;241m.\u001b[39mClient(\n\u001b[0;32m     46\u001b[0m             host,\n\u001b[0;32m     47\u001b[0m             port,\n\u001b[0;32m     48\u001b[0m             project,\n\u001b[0;32m     49\u001b[0m             engine,\n\u001b[0;32m     50\u001b[0m             hostname_verification,\n\u001b[0;32m     51\u001b[0m             trust_store_path,\n\u001b[0;32m     52\u001b[0m             cert_folder,\n\u001b[0;32m     53\u001b[0m             api_key_file,\n\u001b[0;32m     54\u001b[0m             api_key_value,\n\u001b[0;32m     55\u001b[0m         )\n\u001b[0;32m     56\u001b[0m \u001b[38;5;28;01melif\u001b[39;00m _client\u001b[38;5;241m.\u001b[39m_is_external() \u001b[38;5;129;01mand\u001b[39;00m \u001b[38;5;129;01mnot\u001b[39;00m _client\u001b[38;5;241m.\u001b[39m_project_name:\n\u001b[0;32m     57\u001b[0m     _client\u001b[38;5;241m.\u001b[39mprovide_project(project)\n",
      "File \u001b[1;32m~\\anaconda3\\Lib\\site-packages\\hopsworks_common\\client\\external.py:93\u001b[0m, in \u001b[0;36mClient.__init__\u001b[1;34m(self, host, port, project, engine, hostname_verification, trust_store_path, cert_folder, api_key_file, api_key_value)\u001b[0m\n\u001b[0;32m     90\u001b[0m     \u001b[38;5;28mself\u001b[39m\u001b[38;5;241m.\u001b[39m_project_name \u001b[38;5;241m=\u001b[39m \u001b[38;5;28;01mNone\u001b[39;00m\n\u001b[0;32m     91\u001b[0m     \u001b[38;5;28;01mreturn\u001b[39;00m\n\u001b[1;32m---> 93\u001b[0m \u001b[38;5;28mself\u001b[39m\u001b[38;5;241m.\u001b[39mprovide_project(project)\n",
      "File \u001b[1;32m~\\anaconda3\\Lib\\site-packages\\hopsworks_common\\client\\external.py:99\u001b[0m, in \u001b[0;36mClient.provide_project\u001b[1;34m(self, project)\u001b[0m\n\u001b[0;32m     96\u001b[0m \u001b[38;5;28mself\u001b[39m\u001b[38;5;241m.\u001b[39m_project_name \u001b[38;5;241m=\u001b[39m project\n\u001b[0;32m     97\u001b[0m _logger\u001b[38;5;241m.\u001b[39mdebug(\u001b[38;5;124m\"\u001b[39m\u001b[38;5;124mProject name: \u001b[39m\u001b[38;5;132;01m%s\u001b[39;00m\u001b[38;5;124m\"\u001b[39m, \u001b[38;5;28mself\u001b[39m\u001b[38;5;241m.\u001b[39m_project_name)\n\u001b[1;32m---> 99\u001b[0m project_info \u001b[38;5;241m=\u001b[39m \u001b[38;5;28mself\u001b[39m\u001b[38;5;241m.\u001b[39m_get_project_info(project)\n\u001b[0;32m    100\u001b[0m \u001b[38;5;28mself\u001b[39m\u001b[38;5;241m.\u001b[39m_project_id \u001b[38;5;241m=\u001b[39m \u001b[38;5;28mstr\u001b[39m(project_info[\u001b[38;5;124m\"\u001b[39m\u001b[38;5;124mprojectId\u001b[39m\u001b[38;5;124m\"\u001b[39m])\n\u001b[0;32m    101\u001b[0m _logger\u001b[38;5;241m.\u001b[39mdebug(\u001b[38;5;124m\"\u001b[39m\u001b[38;5;124mSetting Project ID: \u001b[39m\u001b[38;5;132;01m%s\u001b[39;00m\u001b[38;5;124m\"\u001b[39m, \u001b[38;5;28mself\u001b[39m\u001b[38;5;241m.\u001b[39m_project_id)\n",
      "File \u001b[1;32m~\\anaconda3\\Lib\\site-packages\\hopsworks_common\\client\\external.py:300\u001b[0m, in \u001b[0;36mClient._get_project_info\u001b[1;34m(self, project_name)\u001b[0m\n\u001b[0;32m    292\u001b[0m \u001b[38;5;250m\u001b[39m\u001b[38;5;124;03m\"\"\"Makes a REST call to hopsworks to get all metadata of a project for the provided project.\u001b[39;00m\n\u001b[0;32m    293\u001b[0m \n\u001b[0;32m    294\u001b[0m \u001b[38;5;124;03m:param project_name: the name of the project\u001b[39;00m\n\u001b[1;32m   (...)\u001b[0m\n\u001b[0;32m    297\u001b[0m \u001b[38;5;124;03m:rtype: dict\u001b[39;00m\n\u001b[0;32m    298\u001b[0m \u001b[38;5;124;03m\"\"\"\u001b[39;00m\n\u001b[0;32m    299\u001b[0m _logger\u001b[38;5;241m.\u001b[39mdebug(\u001b[38;5;124m\"\u001b[39m\u001b[38;5;124mGetting project info for project: \u001b[39m\u001b[38;5;132;01m%s\u001b[39;00m\u001b[38;5;124m\"\u001b[39m, project_name)\n\u001b[1;32m--> 300\u001b[0m \u001b[38;5;28;01mreturn\u001b[39;00m \u001b[38;5;28mself\u001b[39m\u001b[38;5;241m.\u001b[39m_send_request(\u001b[38;5;124m\"\u001b[39m\u001b[38;5;124mGET\u001b[39m\u001b[38;5;124m\"\u001b[39m, [\u001b[38;5;124m\"\u001b[39m\u001b[38;5;124mproject\u001b[39m\u001b[38;5;124m\"\u001b[39m, \u001b[38;5;124m\"\u001b[39m\u001b[38;5;124mgetProjectInfo\u001b[39m\u001b[38;5;124m\"\u001b[39m, project_name])\n",
      "File \u001b[1;32m~\\anaconda3\\Lib\\site-packages\\hopsworks_common\\decorators.py:45\u001b[0m, in \u001b[0;36mconnected.<locals>.if_connected\u001b[1;34m(inst, *args, **kwargs)\u001b[0m\n\u001b[0;32m     43\u001b[0m \u001b[38;5;28;01mif\u001b[39;00m \u001b[38;5;129;01mnot\u001b[39;00m inst\u001b[38;5;241m.\u001b[39m_connected:\n\u001b[0;32m     44\u001b[0m     \u001b[38;5;28;01mraise\u001b[39;00m NoHopsworksConnectionError\n\u001b[1;32m---> 45\u001b[0m \u001b[38;5;28;01mreturn\u001b[39;00m fn(inst, \u001b[38;5;241m*\u001b[39margs, \u001b[38;5;241m*\u001b[39m\u001b[38;5;241m*\u001b[39mkwargs)\n",
      "File \u001b[1;32m~\\anaconda3\\Lib\\site-packages\\hopsworks_common\\client\\base.py:156\u001b[0m, in \u001b[0;36mClient._send_request\u001b[1;34m(self, method, path_params, query_params, headers, data, stream, files, with_base_path_params)\u001b[0m\n\u001b[0;32m    120\u001b[0m \u001b[38;5;129m@connected\u001b[39m\n\u001b[0;32m    121\u001b[0m \u001b[38;5;28;01mdef\u001b[39;00m \u001b[38;5;21m_send_request\u001b[39m(\n\u001b[0;32m    122\u001b[0m     \u001b[38;5;28mself\u001b[39m,\n\u001b[1;32m   (...)\u001b[0m\n\u001b[0;32m    130\u001b[0m     with_base_path_params\u001b[38;5;241m=\u001b[39m\u001b[38;5;28;01mTrue\u001b[39;00m,\n\u001b[0;32m    131\u001b[0m ):\n\u001b[0;32m    132\u001b[0m \u001b[38;5;250m    \u001b[39m\u001b[38;5;124;03m\"\"\"Send REST request to Hopsworks.\u001b[39;00m\n\u001b[0;32m    133\u001b[0m \n\u001b[0;32m    134\u001b[0m \u001b[38;5;124;03m    Uses the client it is executed from. Path parameters are url encoded automatically.\u001b[39;00m\n\u001b[1;32m   (...)\u001b[0m\n\u001b[0;32m    154\u001b[0m \u001b[38;5;124;03m    :rtype: dict\u001b[39;00m\n\u001b[0;32m    155\u001b[0m \u001b[38;5;124;03m    \"\"\"\u001b[39;00m\n\u001b[1;32m--> 156\u001b[0m     f_url \u001b[38;5;241m=\u001b[39m furl\u001b[38;5;241m.\u001b[39mfurl(\u001b[38;5;28mself\u001b[39m\u001b[38;5;241m.\u001b[39m_base_url)\n\u001b[0;32m    157\u001b[0m     \u001b[38;5;28;01mif\u001b[39;00m with_base_path_params:\n\u001b[0;32m    158\u001b[0m         base_path_params \u001b[38;5;241m=\u001b[39m [\u001b[38;5;124m\"\u001b[39m\u001b[38;5;124mhopsworks-api\u001b[39m\u001b[38;5;124m\"\u001b[39m, \u001b[38;5;124m\"\u001b[39m\u001b[38;5;124mapi\u001b[39m\u001b[38;5;124m\"\u001b[39m]\n",
      "File \u001b[1;32m~\\anaconda3\\Lib\\site-packages\\furl\\furl.py:1381\u001b[0m, in \u001b[0;36mfurl.__init__\u001b[1;34m(self, url, args, path, fragment, scheme, netloc, origin, fragment_path, fragment_args, fragment_separator, host, port, query, query_params, username, password, strict)\u001b[0m\n\u001b[0;32m   1378\u001b[0m FragmentCompositionInterface\u001b[38;5;241m.\u001b[39m\u001b[38;5;21m__init__\u001b[39m(\u001b[38;5;28mself\u001b[39m, strict\u001b[38;5;241m=\u001b[39mstrict)\n\u001b[0;32m   1379\u001b[0m \u001b[38;5;28mself\u001b[39m\u001b[38;5;241m.\u001b[39mstrict \u001b[38;5;241m=\u001b[39m strict\n\u001b[1;32m-> 1381\u001b[0m \u001b[38;5;28mself\u001b[39m\u001b[38;5;241m.\u001b[39mload(url)  \u001b[38;5;66;03m# Raises ValueError on invalid URL.\u001b[39;00m\n\u001b[0;32m   1382\u001b[0m \u001b[38;5;28mself\u001b[39m\u001b[38;5;241m.\u001b[39mset(  \u001b[38;5;66;03m# Raises ValueError on invalid URL component(s).\u001b[39;00m\n\u001b[0;32m   1383\u001b[0m     args\u001b[38;5;241m=\u001b[39margs, path\u001b[38;5;241m=\u001b[39mpath, fragment\u001b[38;5;241m=\u001b[39mfragment, scheme\u001b[38;5;241m=\u001b[39mscheme,\n\u001b[0;32m   1384\u001b[0m     netloc\u001b[38;5;241m=\u001b[39mnetloc, origin\u001b[38;5;241m=\u001b[39morigin, fragment_path\u001b[38;5;241m=\u001b[39mfragment_path,\n\u001b[0;32m   1385\u001b[0m     fragment_args\u001b[38;5;241m=\u001b[39mfragment_args, fragment_separator\u001b[38;5;241m=\u001b[39mfragment_separator,\n\u001b[0;32m   1386\u001b[0m     host\u001b[38;5;241m=\u001b[39mhost, port\u001b[38;5;241m=\u001b[39mport, query\u001b[38;5;241m=\u001b[39mquery, query_params\u001b[38;5;241m=\u001b[39mquery_params,\n\u001b[0;32m   1387\u001b[0m     username\u001b[38;5;241m=\u001b[39musername, password\u001b[38;5;241m=\u001b[39mpassword)\n",
      "File \u001b[1;32m~\\anaconda3\\Lib\\site-packages\\furl\\furl.py:1408\u001b[0m, in \u001b[0;36mfurl.load\u001b[1;34m(self, url)\u001b[0m\n\u001b[0;32m   1404\u001b[0m \u001b[38;5;66;03m# urlsplit() raises a ValueError on malformed IPv6 addresses in\u001b[39;00m\n\u001b[0;32m   1405\u001b[0m \u001b[38;5;66;03m# Python 2.7+.\u001b[39;00m\n\u001b[0;32m   1406\u001b[0m tokens \u001b[38;5;241m=\u001b[39m urlsplit(url)\n\u001b[1;32m-> 1408\u001b[0m \u001b[38;5;28mself\u001b[39m\u001b[38;5;241m.\u001b[39mnetloc \u001b[38;5;241m=\u001b[39m tokens\u001b[38;5;241m.\u001b[39mnetloc  \u001b[38;5;66;03m# Raises ValueError in Python 2.7+.\u001b[39;00m\n\u001b[0;32m   1409\u001b[0m \u001b[38;5;28mself\u001b[39m\u001b[38;5;241m.\u001b[39mscheme \u001b[38;5;241m=\u001b[39m tokens\u001b[38;5;241m.\u001b[39mscheme\n\u001b[0;32m   1410\u001b[0m \u001b[38;5;28;01mif\u001b[39;00m \u001b[38;5;129;01mnot\u001b[39;00m \u001b[38;5;28mself\u001b[39m\u001b[38;5;241m.\u001b[39mport:\n",
      "File \u001b[1;32m~\\anaconda3\\Lib\\site-packages\\furl\\furl.py:1889\u001b[0m, in \u001b[0;36mfurl.__setattr__\u001b[1;34m(self, attr, value)\u001b[0m\n\u001b[0;32m   1885\u001b[0m \u001b[38;5;28;01mdef\u001b[39;00m \u001b[38;5;21m__setattr__\u001b[39m(\u001b[38;5;28mself\u001b[39m, attr, value):\n\u001b[0;32m   1886\u001b[0m     \u001b[38;5;28;01mif\u001b[39;00m (\u001b[38;5;129;01mnot\u001b[39;00m PathCompositionInterface\u001b[38;5;241m.\u001b[39m\u001b[38;5;21m__setattr__\u001b[39m(\u001b[38;5;28mself\u001b[39m, attr, value) \u001b[38;5;129;01mand\u001b[39;00m\n\u001b[0;32m   1887\u001b[0m        \u001b[38;5;129;01mnot\u001b[39;00m QueryCompositionInterface\u001b[38;5;241m.\u001b[39m\u001b[38;5;21m__setattr__\u001b[39m(\u001b[38;5;28mself\u001b[39m, attr, value) \u001b[38;5;129;01mand\u001b[39;00m\n\u001b[0;32m   1888\u001b[0m        \u001b[38;5;129;01mnot\u001b[39;00m FragmentCompositionInterface\u001b[38;5;241m.\u001b[39m\u001b[38;5;21m__setattr__\u001b[39m(\u001b[38;5;28mself\u001b[39m, attr, value)):\n\u001b[1;32m-> 1889\u001b[0m         \u001b[38;5;28mobject\u001b[39m\u001b[38;5;241m.\u001b[39m\u001b[38;5;21m__setattr__\u001b[39m(\u001b[38;5;28mself\u001b[39m, attr, value)\n",
      "File \u001b[1;32m~\\anaconda3\\Lib\\site-packages\\furl\\furl.py:1534\u001b[0m, in \u001b[0;36mfurl.netloc\u001b[1;34m(self, netloc)\u001b[0m\n\u001b[0;32m   1529\u001b[0m     host \u001b[38;5;241m=\u001b[39m netloc\n\u001b[0;32m   1531\u001b[0m \u001b[38;5;66;03m# Avoid side effects by assigning self.port before self.host so\u001b[39;00m\n\u001b[0;32m   1532\u001b[0m \u001b[38;5;66;03m# that if an exception is raised when assigning self.port,\u001b[39;00m\n\u001b[0;32m   1533\u001b[0m \u001b[38;5;66;03m# self.host isn't updated.\u001b[39;00m\n\u001b[1;32m-> 1534\u001b[0m \u001b[38;5;28mself\u001b[39m\u001b[38;5;241m.\u001b[39mport \u001b[38;5;241m=\u001b[39m port  \u001b[38;5;66;03m# Raises ValueError on invalid port.\u001b[39;00m\n\u001b[0;32m   1535\u001b[0m \u001b[38;5;28mself\u001b[39m\u001b[38;5;241m.\u001b[39mhost \u001b[38;5;241m=\u001b[39m host\n\u001b[0;32m   1536\u001b[0m \u001b[38;5;28mself\u001b[39m\u001b[38;5;241m.\u001b[39musername \u001b[38;5;241m=\u001b[39m \u001b[38;5;28;01mNone\u001b[39;00m \u001b[38;5;28;01mif\u001b[39;00m username \u001b[38;5;129;01mis\u001b[39;00m \u001b[38;5;28;01mNone\u001b[39;00m \u001b[38;5;28;01melse\u001b[39;00m unquote(username)\n",
      "File \u001b[1;32m~\\anaconda3\\Lib\\site-packages\\furl\\furl.py:1889\u001b[0m, in \u001b[0;36mfurl.__setattr__\u001b[1;34m(self, attr, value)\u001b[0m\n\u001b[0;32m   1885\u001b[0m \u001b[38;5;28;01mdef\u001b[39;00m \u001b[38;5;21m__setattr__\u001b[39m(\u001b[38;5;28mself\u001b[39m, attr, value):\n\u001b[0;32m   1886\u001b[0m     \u001b[38;5;28;01mif\u001b[39;00m (\u001b[38;5;129;01mnot\u001b[39;00m PathCompositionInterface\u001b[38;5;241m.\u001b[39m\u001b[38;5;21m__setattr__\u001b[39m(\u001b[38;5;28mself\u001b[39m, attr, value) \u001b[38;5;129;01mand\u001b[39;00m\n\u001b[0;32m   1887\u001b[0m        \u001b[38;5;129;01mnot\u001b[39;00m QueryCompositionInterface\u001b[38;5;241m.\u001b[39m\u001b[38;5;21m__setattr__\u001b[39m(\u001b[38;5;28mself\u001b[39m, attr, value) \u001b[38;5;129;01mand\u001b[39;00m\n\u001b[0;32m   1888\u001b[0m        \u001b[38;5;129;01mnot\u001b[39;00m FragmentCompositionInterface\u001b[38;5;241m.\u001b[39m\u001b[38;5;21m__setattr__\u001b[39m(\u001b[38;5;28mself\u001b[39m, attr, value)):\n\u001b[1;32m-> 1889\u001b[0m         \u001b[38;5;28mobject\u001b[39m\u001b[38;5;241m.\u001b[39m\u001b[38;5;21m__setattr__\u001b[39m(\u001b[38;5;28mself\u001b[39m, attr, value)\n",
      "File \u001b[1;32m~\\anaconda3\\Lib\\site-packages\\furl\\furl.py:1476\u001b[0m, in \u001b[0;36mfurl.port\u001b[1;34m(self, port)\u001b[0m\n\u001b[0;32m   1474\u001b[0m     \u001b[38;5;28mself\u001b[39m\u001b[38;5;241m.\u001b[39m_port \u001b[38;5;241m=\u001b[39m \u001b[38;5;28mint\u001b[39m(\u001b[38;5;28mstr\u001b[39m(port))\n\u001b[0;32m   1475\u001b[0m \u001b[38;5;28;01melse\u001b[39;00m:\n\u001b[1;32m-> 1476\u001b[0m     \u001b[38;5;28;01mraise\u001b[39;00m \u001b[38;5;167;01mValueError\u001b[39;00m(\u001b[38;5;124m\"\u001b[39m\u001b[38;5;124mInvalid port \u001b[39m\u001b[38;5;124m'\u001b[39m\u001b[38;5;132;01m%s\u001b[39;00m\u001b[38;5;124m'\u001b[39m\u001b[38;5;124m.\u001b[39m\u001b[38;5;124m\"\u001b[39m \u001b[38;5;241m%\u001b[39m port)\n",
      "\u001b[1;31mValueError\u001b[0m: Invalid port ''."
     ]
    }
   ],
   "source": [
    "import hsfs\n",
    "\n",
    "# Create a connection to the Hopsworks feature store\n",
    "# The parameters depend on your Hopsworks setup and whether you are using it inside Hopsworks or externally\n",
    "conn = hsfs.connection(\n",
    "    host='my-instance.cloud.hopsworks.ai',\n",
    "    project='ejeshkr',\n",
    "    api_key_value='r25PmHdLuyYBdqBS.uKTU5BdMQB7y45O6fhUyJMqFiQkutEAUTQI1FxGLvebMknsXTtqGvf7I4ooA8cMJ',  # Your API key for authentication\n",
    "    port=443,  # Default HTTPS port for Hopsworks instances\n",
    "    hostname_verification=True\n",
    ")\n",
    "\n",
    "# Get the feature store handle\n",
    "feature_store = conn.get_feature_store()\n"
   ]
  },
  {
   "cell_type": "code",
   "execution_count": null,
   "id": "f985570a-8ae6-4bb8-bd74-f7c22c61c8c5",
   "metadata": {},
   "outputs": [],
   "source": []
  }
 ],
 "metadata": {
  "kernelspec": {
   "display_name": "Python [conda env:base] *",
   "language": "python",
   "name": "conda-base-py"
  },
  "language_info": {
   "codemirror_mode": {
    "name": "ipython",
    "version": 3
   },
   "file_extension": ".py",
   "mimetype": "text/x-python",
   "name": "python",
   "nbconvert_exporter": "python",
   "pygments_lexer": "ipython3",
   "version": "3.12.7"
  }
 },
 "nbformat": 4,
 "nbformat_minor": 5
}
