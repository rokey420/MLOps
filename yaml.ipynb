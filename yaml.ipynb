{
 "cells": [
  {
   "cell_type": "code",
   "execution_count": 1,
   "id": "76415ad1-753b-424f-83c9-b2c469080680",
   "metadata": {},
   "outputs": [
    {
     "data": {
      "text/plain": [
       "CompletedProcess(args=['python', '-m', 'pipeline.feature_pipeline'], returncode=1)"
      ]
     },
     "execution_count": 1,
     "metadata": {},
     "output_type": "execute_result"
    }
   ],
   "source": [
    "import subprocess\n",
    "subprocess.run([\"python\",\"-m\",\"pipeline.feature_pipeline\"])"
   ]
  },
  {
   "cell_type": "code",
   "execution_count": 3,
   "id": "0bf08ee5-0838-484f-894b-32ac417deabe",
   "metadata": {},
   "outputs": [
    {
     "data": {
      "text/plain": [
       "CompletedProcess(args=['python', '-m', 'pipeline.inference_pipeline'], returncode=1)"
      ]
     },
     "execution_count": 3,
     "metadata": {},
     "output_type": "execute_result"
    }
   ],
   "source": [
    "import subprocess\n",
    "subprocess.run([\"python\",\"-m\",\"pipeline.inference_pipeline\"])"
   ]
  },
  {
   "cell_type": "code",
   "execution_count": 5,
   "id": "9d9e12ea-e98f-48d6-8afc-52e21fa4dfc5",
   "metadata": {},
   "outputs": [
    {
     "data": {
      "text/plain": [
       "CompletedProcess(args=['python', '-m', 'pipeline.model_training_pipeline'], returncode=1)"
      ]
     },
     "execution_count": 5,
     "metadata": {},
     "output_type": "execute_result"
    }
   ],
   "source": [
    "import subprocess\n",
    "subprocess.run([\"python\",\"-m\",\"pipeline.model_training_pipeline\"])"
   ]
  },
  {
   "cell_type": "code",
   "execution_count": null,
   "id": "10313f0c-2e4f-4e1c-9183-134f4f67154b",
   "metadata": {},
   "outputs": [],
   "source": []
  }
 ],
 "metadata": {
  "kernelspec": {
   "display_name": "Python [conda env:base] *",
   "language": "python",
   "name": "conda-base-py"
  },
  "language_info": {
   "codemirror_mode": {
    "name": "ipython",
    "version": 3
   },
   "file_extension": ".py",
   "mimetype": "text/x-python",
   "name": "python",
   "nbconvert_exporter": "python",
   "pygments_lexer": "ipython3",
   "version": "3.12.7"
  }
 },
 "nbformat": 4,
 "nbformat_minor": 5
}
